{
 "cells": [
  {
   "cell_type": "code",
   "execution_count": 1,
   "metadata": {},
   "outputs": [],
   "source": [
    "import numpy as np\n",
    "from PIL import Image\n",
    "import matplotlib.pyplot as plt"
   ]
  },
  {
   "cell_type": "code",
   "execution_count": null,
   "metadata": {},
   "outputs": [],
   "source": [
    "image = Image.open('images/cat_2.jpg').convert('L')\n",
    "\n",
    "print(image.size)\n",
    "print(image.mode)"
   ]
  },
  {
   "cell_type": "code",
   "execution_count": 3,
   "metadata": {},
   "outputs": [],
   "source": [
    "def contrast_reduction(image, a, b):\n",
    "    image = np.array(image)\n",
    "    image = (image / image.max()) * (b - a) + a\n",
    "    pil_image = Image.fromarray(np.uint8(image))\n",
    "    return pil_image"
   ]
  },
  {
   "cell_type": "code",
   "execution_count": 4,
   "metadata": {},
   "outputs": [],
   "source": [
    "def calc_histogram(image, label):\n",
    "    histogram = np.zeros(256)\n",
    "    for pixel in image.getdata():\n",
    "        histogram[pixel] += 1\n",
    "\n",
    "    fig, ax = plt.subplots()\n",
    "    fig.set_size_inches(12, 6)\n",
    "    ax.bar(range(256), histogram, color='skyblue', edgecolor='gray', width=1.0)\n",
    "\n",
    "    ax.set_xlabel('Pixel Value', fontsize=14)\n",
    "    ax.set_ylabel('Frequency', fontsize=14)\n",
    "    ax.set_title(label, fontsize=16, fontweight='bold')\n",
    "    ax.set_xlim(0, 255)\n",
    "    ax.set_ylim(0, max(histogram) * 1.1)\n",
    "    ax.grid(True, linestyle='--', alpha=0.6)\n",
    "\n",
    "    ax.tick_params(axis='both', which='major', labelsize=12)\n",
    "    plt.tight_layout()\n",
    "    plt.show()"
   ]
  },
  {
   "cell_type": "code",
   "execution_count": null,
   "metadata": {},
   "outputs": [],
   "source": [
    "calc_histogram(image, 'Original Image Histogram')\n",
    "contrast = contrast_reduction(image, 50, 150)\n",
    "contrast.save('images/cat_2_contrast.jpg')\n",
    "calc_histogram(contrast, 'Contrast Reduced Image Histogram')\n",
    "display(contrast)"
   ]
  },
  {
   "cell_type": "code",
   "execution_count": 6,
   "metadata": {},
   "outputs": [],
   "source": [
    "def constrast_stretching(image, a, b, a2, b2):\n",
    "    image = np.array(image)\n",
    "    image = (((image - a) / (b - a)) * (b2 - a2)) + a2\n",
    "    return Image.fromarray(np.uint8(image))"
   ]
  },
  {
   "cell_type": "code",
   "execution_count": null,
   "metadata": {},
   "outputs": [],
   "source": [
    "std_contrast = np.std(np.array(contrast))\n",
    "mean_contrast = np.mean(np.array(contrast))\n",
    "a = mean_contrast - 2 * std_contrast\n",
    "b = mean_contrast + 2 * std_contrast\n",
    "a2 = np.array(contrast).min() - 2 * np.std(np.array(contrast)) #if np.array(contrast).min() < 0 else 0\n",
    "b2 = np.array(contrast).max() + 2 * np.std(np.array(contrast)) #if np.array(contrast).max() > 255 else 255\n",
    "print(\"a:\", a, \"b:\", b, \"a2:\", a2, \"b2:\", b2)\n",
    "contrast_stretch = constrast_stretching(contrast, a, b, a2, b2)\n",
    "calc_histogram(contrast_stretch, 'Contrast Stretched Image Histogram')\n",
    "contrast_stretch.save('images/cat_2_contrast_stretch.jpg')"
   ]
  },
  {
   "cell_type": "code",
   "execution_count": null,
   "metadata": {},
   "outputs": [],
   "source": []
  }
 ],
 "metadata": {
  "kernelspec": {
   "display_name": "Python 3",
   "language": "python",
   "name": "python3"
  },
  "language_info": {
   "codemirror_mode": {
    "name": "ipython",
    "version": 3
   },
   "file_extension": ".py",
   "mimetype": "text/x-python",
   "name": "python",
   "nbconvert_exporter": "python",
   "pygments_lexer": "ipython3",
   "version": "3.12.7"
  }
 },
 "nbformat": 4,
 "nbformat_minor": 2
}
